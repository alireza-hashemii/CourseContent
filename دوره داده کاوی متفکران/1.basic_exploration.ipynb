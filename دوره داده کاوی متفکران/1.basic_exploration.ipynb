{
 "cells": [
  {
   "cell_type": "code",
   "execution_count": 2,
   "id": "dbbae905",
   "metadata": {},
   "outputs": [],
   "source": [
    "import pandas as pd"
   ]
  },
  {
   "cell_type": "code",
   "execution_count": null,
   "id": "1b09598d",
   "metadata": {},
   "outputs": [],
   "source": [
    "# loading dataset\n",
    "df = pd.read_csv('datasets/titanic.csv')"
   ]
  },
  {
   "cell_type": "code",
   "execution_count": null,
   "id": "40ccbc14",
   "metadata": {},
   "outputs": [],
   "source": [
    "# Viewing data\n",
    "first_5_rows = df.head()\n",
    "last_5_rows = df.tail()"
   ]
  },
  {
   "cell_type": "code",
   "execution_count": null,
   "id": "0b80a5ec",
   "metadata": {},
   "outputs": [],
   "source": [
    "# columns \n",
    "number_of_features = len(df.columns)\n",
    "number_of_features"
   ]
  },
  {
   "cell_type": "code",
   "execution_count": null,
   "id": "a5d027f7",
   "metadata": {},
   "outputs": [],
   "source": [
    "# a quick statistic summary of your data\n",
    "df.describe()"
   ]
  },
  {
   "cell_type": "code",
   "execution_count": null,
   "id": "ad3bc3b2",
   "metadata": {},
   "outputs": [],
   "source": [
    "# sort_index\n",
    "df.sort_index(axis=1, ascending=False)"
   ]
  },
  {
   "cell_type": "code",
   "execution_count": null,
   "id": "dadbebae",
   "metadata": {},
   "outputs": [],
   "source": [
    "# sort_value\n",
    "df.sort_values(by='Age')"
   ]
  }
 ],
 "metadata": {
  "kernelspec": {
   "display_name": "Python 3",
   "language": "python",
   "name": "python3"
  },
  "language_info": {
   "codemirror_mode": {
    "name": "ipython",
    "version": 3
   },
   "file_extension": ".py",
   "mimetype": "text/x-python",
   "name": "python",
   "nbconvert_exporter": "python",
   "pygments_lexer": "ipython3",
   "version": "3.10.5"
  }
 },
 "nbformat": 4,
 "nbformat_minor": 5
}
