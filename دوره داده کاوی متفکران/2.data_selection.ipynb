{
 "cells": [
  {
   "cell_type": "code",
   "execution_count": 1,
   "id": "8b2309cd",
   "metadata": {},
   "outputs": [],
   "source": [
    "import pandas as pd"
   ]
  },
  {
   "cell_type": "markdown",
   "id": "ed0977c5",
   "metadata": {},
   "source": [
    "hint: For a DataFrame, passing a single label selects a columns and yields a Series equivalent to df.A"
   ]
  },
  {
   "cell_type": "code",
   "execution_count": 2,
   "id": "65b6302a",
   "metadata": {},
   "outputs": [],
   "source": [
    "df = pd.read_csv('datasets/titanic.csv')"
   ]
  },
  {
   "cell_type": "code",
   "execution_count": null,
   "id": "35f82dfb",
   "metadata": {},
   "outputs": [],
   "source": [
    "# 2 ways of selecting a column\n",
    "age_column = df['Age']\n",
    "cabin_column = df.Cabin"
   ]
  },
  {
   "cell_type": "code",
   "execution_count": null,
   "id": "a5981f4e",
   "metadata": {},
   "outputs": [],
   "source": [
    "# selecting some rows using slice\n",
    "df[1: 5]"
   ]
  },
  {
   "cell_type": "code",
   "execution_count": null,
   "id": "e366e303",
   "metadata": {},
   "outputs": [],
   "source": [
    "# Selection by row label\n",
    "df.loc[4]\n",
    "\n",
    "df.loc[:, 'Pclass']"
   ]
  },
  {
   "cell_type": "markdown",
   "id": "2f4e87c9",
   "metadata": {},
   "source": [
    "practice: df.loc[\"20130102\":\"20130104\", [\"A\", \"B\"]]"
   ]
  },
  {
   "cell_type": "code",
   "execution_count": 30,
   "id": "4a8f3f49",
   "metadata": {},
   "outputs": [
    {
     "data": {
      "text/plain": [
       "35.0"
      ]
     },
     "execution_count": 30,
     "metadata": {},
     "output_type": "execute_result"
    }
   ],
   "source": [
    "# For getting fast access to a scalar\n",
    "df.at[20, \"Age\"]"
   ]
  },
  {
   "cell_type": "code",
   "execution_count": null,
   "id": "9f2ce8f0",
   "metadata": {},
   "outputs": [],
   "source": [
    "df.iloc[90:115, [1, 2]]"
   ]
  },
  {
   "cell_type": "markdown",
   "id": "3a292f71",
   "metadata": {},
   "source": [
    "practice: df.iloc[:, 1:3]"
   ]
  },
  {
   "cell_type": "code",
   "execution_count": null,
   "id": "ac9d5e65",
   "metadata": {},
   "outputs": [],
   "source": [
    "# select rows where age is higher than 60\n",
    "\n",
    "df[df['Age'] > 60]"
   ]
  },
  {
   "cell_type": "code",
   "execution_count": null,
   "id": "67487d3f",
   "metadata": {},
   "outputs": [],
   "source": [
    "\n",
    "df[df['Cabin'].isin(['B30', 'B42'])]"
   ]
  }
 ],
 "metadata": {
  "kernelspec": {
   "display_name": "Python 3",
   "language": "python",
   "name": "python3"
  },
  "language_info": {
   "codemirror_mode": {
    "name": "ipython",
    "version": 3
   },
   "file_extension": ".py",
   "mimetype": "text/x-python",
   "name": "python",
   "nbconvert_exporter": "python",
   "pygments_lexer": "ipython3",
   "version": "3.10.5"
  }
 },
 "nbformat": 4,
 "nbformat_minor": 5
}
