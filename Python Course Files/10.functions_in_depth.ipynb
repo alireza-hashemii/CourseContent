{
 "cells": [
  {
   "cell_type": "markdown",
   "metadata": {},
   "source": [
    "# An Introduction To `Functions` "
   ]
  },
  {
   "cell_type": "markdown",
   "metadata": {},
   "source": [
    "1. A simple function that prints a welcome text when it is called"
   ]
  },
  {
   "cell_type": "code",
   "execution_count": null,
   "metadata": {},
   "outputs": [],
   "source": [
    "def say_hello():\n",
    "    print(\"Hola amigo\")\n",
    "\n",
    "say_hello()"
   ]
  },
  {
   "cell_type": "markdown",
   "metadata": {},
   "source": [
    "2. A function that prints numbers from 20 down to 0"
   ]
  },
  {
   "cell_type": "code",
   "execution_count": 1,
   "metadata": {},
   "outputs": [],
   "source": [
    "def print_10_nums():\n",
    "    for i in range(20, -1):\n",
    "        print(i)\n",
    "\n",
    "# why it isn't still working?\n",
    "print_10_nums()"
   ]
  },
  {
   "cell_type": "markdown",
   "metadata": {},
   "source": [
    "3. same name for both var and function? Not a good idea."
   ]
  },
  {
   "cell_type": "code",
   "execution_count": null,
   "metadata": {},
   "outputs": [],
   "source": [
    "x = 14\n",
    "\n",
    "def x():\n",
    "    print(x)\n",
    "\n",
    "x()"
   ]
  },
  {
   "cell_type": "markdown",
   "metadata": {},
   "source": [
    "4. A function that has a parameter and prints a message to that parameter's value"
   ]
  },
  {
   "cell_type": "code",
   "execution_count": null,
   "metadata": {},
   "outputs": [],
   "source": [
    "def greeting(user_name):\n",
    "    print(f'hello {user_name}')\n",
    "   \n",
    "\n",
    "greeting(\"sepehr\")"
   ]
  },
  {
   "cell_type": "markdown",
   "metadata": {},
   "source": [
    "5. A function that get's a number as input and return accumulative sum of all numbers up to parameter"
   ]
  },
  {
   "cell_type": "code",
   "execution_count": null,
   "metadata": {},
   "outputs": [],
   "source": [
    "def number_acc(number):\n",
    "    res = 0\n",
    "    for num in range(0, number+1, 1):\n",
    "        res += num\n",
    "    print(res)\n",
    "\n",
    "number_acc(65)"
   ]
  },
  {
   "cell_type": "markdown",
   "metadata": {},
   "source": [
    "6. A function that calculates it today is an even day of the week"
   ]
  },
  {
   "cell_type": "code",
   "execution_count": null,
   "metadata": {},
   "outputs": [],
   "source": [
    "import datetime\n",
    "\n",
    "def is_odd_day():\n",
    "    current_day = datetime.datetime.now().ctime()[:3]\n",
    "    current_day_2 = datetime.datetime.now().strftime('%a')\n",
    "    \n",
    "    match current_day:\n",
    "        case 'Mon':\n",
    "            return True\n",
    "        case 'Sat':\n",
    "            return True\n",
    "        case 'Wed':\n",
    "            return True\n",
    "        case _:\n",
    "            return False\n",
    "\n",
    "is_odd_day()"
   ]
  },
  {
   "cell_type": "markdown",
   "metadata": {},
   "source": [
    "7. A function that calculates wheter we are in the first half of the year"
   ]
  },
  {
   "cell_type": "code",
   "execution_count": null,
   "metadata": {},
   "outputs": [],
   "source": [
    "def first_year_half():\n",
    "    current_month = datetime.datetime.now().month\n",
    "    if current_month > 6:\n",
    "        return 'Second Half'\n",
    "    else:\n",
    "        return \"First Half\"\n",
    "\n",
    "first_year_half()"
   ]
  },
  {
   "cell_type": "markdown",
   "metadata": {},
   "source": [
    "8. Persian Version of the previous cell"
   ]
  },
  {
   "cell_type": "code",
   "execution_count": null,
   "metadata": {},
   "outputs": [],
   "source": [
    "def persian_year_half():\n",
    "    data = datetime.datetime.now().date()\n",
    "    data_template = [data.year, data.month , data.day]\n",
    "\n",
    "    current_month = datetime.date(*data_template)\n",
    "    start_second = datetime.date(2023, 9, 22)\n",
    "    end_second = datetime.date(2023, 3, 20)\n",
    "    if end_second < current_month < start_second:\n",
    "        print('First Half')\n",
    "    else:\n",
    "        print('Second Half')\n",
    "\n",
    "\n",
    "persian_year_half()"
   ]
  },
  {
   "cell_type": "markdown",
   "metadata": {},
   "source": [
    "### `Default Parameter / Parameter Type / Function Return Annotation`"
   ]
  },
  {
   "cell_type": "markdown",
   "metadata": {},
   "source": [
    "9. A function with two parameters as file_name & word which counts the number of occurences of that particular word."
   ]
  },
  {
   "cell_type": "code",
   "execution_count": null,
   "metadata": {},
   "outputs": [],
   "source": [
    "def count_word(file_name: str, word: str, iscase_sensitive:bool) -> int:\n",
    "    with open(file_name, 'r') as file:\n",
    "        content = file.read()\n",
    "        \n",
    "    if not iscase_sensitive:\n",
    "        word_lower = word.lower() \n",
    "        word_count = content.lower().count(word_lower)\n",
    "        return word_count\n",
    "\n",
    "    else:\n",
    "        word_count = content.count(word)\n",
    "        return word_count"
   ]
  },
  {
   "cell_type": "markdown",
   "metadata": {},
   "source": [
    "10. A function that counts how many .py files we have in a directory"
   ]
  },
  {
   "cell_type": "code",
   "execution_count": null,
   "metadata": {},
   "outputs": [],
   "source": [
    "import os\n",
    "def module_counter(address: str | bytes = None) -> list[str]:\n",
    "    if address is None:\n",
    "        address = os.getcwd()\n",
    "\n",
    "    list_content = os.list_dir(address)\n",
    "    py_modules = []\n",
    "    \n",
    "    for i in list_content:\n",
    "        if i.endswith('.py'):\n",
    "            py_modules.append(i)\n",
    "    return py_modules\n",
    "    "
   ]
  },
  {
   "cell_type": "markdown",
   "metadata": {},
   "source": [
    "#### `1.Default Argument - 2.Keyword Argument - 3.Positional Argument - 4.Positional-only Argument - 5.keyword-only Argument`"
   ]
  },
  {
   "cell_type": "markdown",
   "metadata": {},
   "source": [
    "11. A function that processes user data and write it to a json_file"
   ]
  },
  {
   "cell_type": "code",
   "execution_count": 32,
   "metadata": {},
   "outputs": [],
   "source": [
    "import json\n",
    "\n",
    "def process_data(first_name , last_name , / , hobbies , * , phone_number=None , Post_code=None ):\n",
    "    local_pairs = locals()\n",
    "\n",
    "    with open('data.json', 'r') as file:\n",
    "        content = json.load(file)\n",
    "\n",
    "    with open('data.json', 'w') as file:\n",
    "        content['users'].append(local_pairs)\n",
    "        json.dump(content, file, indent=4)\n",
    "\n",
    "process_data('a', 'g', 'a')\n",
    "process_data('th', 'nm', 'a', phone_number=901121)"
   ]
  },
  {
   "cell_type": "markdown",
   "metadata": {},
   "source": [
    "12. Arbitrary positional and keyword arguments."
   ]
  },
  {
   "cell_type": "code",
   "execution_count": null,
   "metadata": {},
   "outputs": [],
   "source": [
    "def arb_acceptor(*args, **kwargs):\n",
    "    return args, kwargs"
   ]
  },
  {
   "cell_type": "code",
   "execution_count": null,
   "metadata": {},
   "outputs": [],
   "source": [
    "# what the hell is happening? \n",
    "\n",
    "import math\n",
    "\n",
    "def calculation_point(x, y):\n",
    "    calc_result = math.hypot(x, y)\n",
    "\n",
    "calculation_point()\n",
    "print(calc_result)"
   ]
  },
  {
   "cell_type": "markdown",
   "metadata": {},
   "source": [
    "# Namespace & Scopes"
   ]
  },
  {
   "cell_type": "markdown",
   "metadata": {},
   "source": [
    "#####    Namespaces are one honking great idea—let’s do more of those!\n",
    "— The Zen of Python, by Tim Peters"
   ]
  },
  {
   "cell_type": "markdown",
   "metadata": {},
   "source": [
    "![title](images/namespace.png)"
   ]
  },
  {
   "cell_type": "code",
   "execution_count": null,
   "metadata": {},
   "outputs": [],
   "source": [
    "# global_var is in the global namespace\n",
    "global_var = 10\n",
    "\n",
    "def outer_function():\n",
    "    #  outer_var is in the local namespace \n",
    "    outer_var = 20\n",
    "    \n",
    "    def inner_function():\n",
    "        #  inner_var is in the nested local namespace \n",
    "        inner_var = 30\n",
    "\n",
    "        print(inner_var)\n",
    "\n",
    "    print(outer_var)\n",
    "\n",
    "    inner_function()\n",
    "\n",
    "# print the value of the global variable\n",
    "print(global_var)\n",
    "\n",
    "# call the outer function and print local and nested local variables\n",
    "outer_function()"
   ]
  },
  {
   "cell_type": "markdown",
   "metadata": {},
   "source": [
    "![title](images/legb.png)"
   ]
  },
  {
   "cell_type": "code",
   "execution_count": null,
   "metadata": {},
   "outputs": [],
   "source": [
    "x = 10\n",
    "\n",
    "def c():\n",
    "    global x\n",
    "    x += 5\n",
    "c()\n",
    "print(x)"
   ]
  },
  {
   "cell_type": "markdown",
   "metadata": {},
   "source": [
    "## locals() and globals()"
   ]
  },
  {
   "cell_type": "code",
   "execution_count": null,
   "metadata": {},
   "outputs": [],
   "source": [
    "print(globals())\n",
    "print(locals())"
   ]
  },
  {
   "cell_type": "markdown",
   "metadata": {},
   "source": [
    "# immutable or mutable"
   ]
  },
  {
   "cell_type": "code",
   "execution_count": null,
   "metadata": {},
   "outputs": [],
   "source": [
    "# from inside a function you can't change the value of immutable data\n",
    "x = 20\n",
    "def f():\n",
    "    x = 40\n",
    "    print(x)\n",
    "\n",
    "\n",
    "f()\n",
    "print(x)"
   ]
  },
  {
   "cell_type": "code",
   "execution_count": null,
   "metadata": {},
   "outputs": [],
   "source": [
    "# but lists can be changed because they are mutable\n",
    "\n",
    "my_list = ['foo', 'bar', 'baz']\n",
    "def f():\n",
    "    my_list[1] = 'quux'\n",
    "\n",
    "f()\n",
    "my_list"
   ]
  },
  {
   "cell_type": "markdown",
   "metadata": {},
   "source": [
    "# Global Declaration"
   ]
  },
  {
   "cell_type": "code",
   "execution_count": null,
   "metadata": {},
   "outputs": [],
   "source": [
    "# with global you can change the value of immutable types from within the function\n",
    "\n",
    "x = 20\n",
    "def f():\n",
    "    global x\n",
    "    x = 40\n",
    "    print(x)\n",
    "\n",
    "f()\n",
    "print(x)"
   ]
  }
 ],
 "metadata": {
  "kernelspec": {
   "display_name": "base",
   "language": "python",
   "name": "python3"
  },
  "language_info": {
   "codemirror_mode": {
    "name": "ipython",
    "version": 3
   },
   "file_extension": ".py",
   "mimetype": "text/x-python",
   "name": "python",
   "nbconvert_exporter": "python",
   "pygments_lexer": "ipython3",
   "version": "3.12.7"
  }
 },
 "nbformat": 4,
 "nbformat_minor": 2
}
